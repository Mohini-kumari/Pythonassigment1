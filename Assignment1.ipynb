{
 "cells": [
  {
   "cell_type": "markdown",
   "id": "0cfcab86-6520-4146-aa89-565a61ae8299",
   "metadata": {},
   "source": [
    "###Question 1:\n",
    "In the below elements which of them are values or an expression?\n",
    "eg:values can be Integer or string and expressions will be mathematical operators.\n",
    "*\n",
    "'hello'\n",
    "-87.8\n",
    "-\n",
    "/\n",
    "+\n",
    "    6\n"
   ]
  },
  {
   "cell_type": "code",
   "execution_count": 5,
   "id": "94167e46-f6a4-4635-a636-b1922cdacd61",
   "metadata": {},
   "outputs": [
    {
     "name": "stdout",
     "output_type": "stream",
     "text": [
      "'hello'is a Value (String)\n",
      "-87.8 is a Value (Float)\n",
      "6 is a Value (Integer)\n",
      "* is an Expression (Operator)\n",
      "- is an Expression (Operator\n",
      "/ is an Expression (Operator)\n",
      "+ is an Expression (Operator)\n"
     ]
    }
   ],
   "source": [
    "print(\"'hello'is a Value (String)\")\n",
    "print(\"-87.8 is a Value (Float)\")\n",
    "print(\"6 is a Value (Integer)\")\n",
    "print(\"* is an Expression (Operator)\")\n",
    "print(\"- is an Expression (Operator\")\n",
    "print(\"/ is an Expression (Operator)\")\n",
    "print(\"+ is an Expression (Operator)\")"
   ]
  },
  {
   "cell_type": "markdown",
   "id": "3da6a0c1-f9f9-438a-b014-73e161f6ab64",
   "metadata": {},
   "source": [
    "###Question 2: What is the difference between string and variable."
   ]
  },
  {
   "cell_type": "code",
   "execution_count": 7,
   "id": "5f24dfb0-2f58-4a70-bf6d-39943daa75e1",
   "metadata": {},
   "outputs": [
    {
     "name": "stdout",
     "output_type": "stream",
     "text": [
      "my_string is a String: Hello\n",
      "x is a Variable storing Integer value: 5\n"
     ]
    }
   ],
   "source": [
    "#String example\n",
    "my_string = \"Hello\"\n",
    "print(\"my_string is a String:\" ,my_string)\n",
    "\n",
    "#Variable example\n",
    "x=5\n",
    "print(\"x is a Variable storing Integer value:\" ,x)"
   ]
  },
  {
   "cell_type": "markdown",
   "id": "15fa2c6d-cdcd-4319-b37f-5b11ad6d018b",
   "metadata": {},
   "source": [
    "###Question 3: Describe three different data types."
   ]
  },
  {
   "cell_type": "code",
   "execution_count": 11,
   "id": "645ac213-c60e-43bc-a845-094c7b5eb13a",
   "metadata": {},
   "outputs": [
    {
     "name": "stdout",
     "output_type": "stream",
     "text": [
      "number = 25\n",
      "Data type of number is: <class 'int'>\n",
      "\n",
      "decimal_value= 12.5\n",
      "Data typr of decimal_value is: <class 'float'>\n",
      "\n",
      "text = Sachin\n",
      "Data type of text is: <class 'str'>\n"
     ]
    }
   ],
   "source": [
    "# 1. Integer: Whole nember \n",
    "number = 25\n",
    "print(\"number =\", number)\n",
    "print(\"Data type of number is:\", type (number))   #<class 'int'>\n",
    "\n",
    "# 2. Float - Decimal number\n",
    "decimal_value = 12.5\n",
    "print(\"\\ndecimal_value=\", decimal_value)\n",
    "print(\"Data typr of decimal_value is:\", type(decimal_value))   #<class 'float'>\n",
    "\n",
    "# 3. String: Text\n",
    "text = \"Sachin\"\n",
    "print(\"\\ntext =\",text)\n",
    "print(\"Data type of text is:\", type (text))  #<class 'str'>"
   ]
  },
  {
   "cell_type": "markdown",
   "id": "aa429d12-a72b-4354-b62d-bd14f543f227",
   "metadata": {},
   "source": [
    "###Question 4: What is an Expression made up of? What do all expressions do?"
   ]
  },
  {
   "cell_type": "code",
   "execution_count": 13,
   "id": "3f8e3497-52a1-404f-acdc-866d99ca051e",
   "metadata": {},
   "outputs": [
    {
     "name": "stdout",
     "output_type": "stream",
     "text": [
      "Expression 1: 10 + 5 = 15\n",
      "Expression 2: x * 2 = 8\n",
      "Expression 3: 'Hello' + 'Python' = HelloPython\n"
     ]
    }
   ],
   "source": [
    "# 1. Simple numerical expression \n",
    "result1 = 10 + 5\n",
    "print(\"Expression 1: 10 + 5 =\", result1)\n",
    "\n",
    "# 2. Expression with variable \n",
    "x = 4\n",
    "result2 = x * 2\n",
    "print(\"Expression 2: x * 2 =\", result2)\n",
    "\n",
    "# 3.String expression (joining two strings)\n",
    "result3 = \"Hello\" + \"Python\"\n",
    "print(\"Expression 3: 'Hello' + 'Python' =\", result3)"
   ]
  },
  {
   "cell_type": "markdown",
   "id": "56622df6-b11d-4bc2-b37a-a5bb1f883a9e",
   "metadata": {},
   "source": [
    "###Question 5: This assignment statements, like spam = 10. What is the difference between an expression and a statement?"
   ]
  },
  {
   "cell_type": "code",
   "execution_count": 1,
   "id": "fcb29db2-d2e6-488a-bcc3-d0c80640bda7",
   "metadata": {},
   "outputs": [
    {
     "name": "stdout",
     "output_type": "stream",
     "text": [
      "Result of expression 5+3 is: 8\n",
      "Value of spam is; 10\n",
      "Expression 'spam + 5' gives: 15\n"
     ]
    }
   ],
   "source": [
    "# Expression example: it returns a value\n",
    "x = 5+3\n",
    "print(\"Result of expression 5+3 is:\", x)\n",
    "\n",
    "# Statement example: it assigns a value (does not return)\n",
    "spam = 10\n",
    "print(\"Value of spam is;\", spam)\n",
    "\n",
    "# Another expression inside print \n",
    "print(\"Expression 'spam + 5' gives:\", spam + 5)"
   ]
  },
  {
   "cell_type": "markdown",
   "id": "1955f8eb-3704-4cd2-b7ec-c9a9d495de99",
   "metadata": {},
   "source": [
    "###Question 6: After running the following code, what does the variable bacon contaiin?\n",
    "bacon = 22,\n",
    "bacon + 1"
   ]
  },
  {
   "cell_type": "code",
   "execution_count": 3,
   "id": "037a5c1f-073d-4775-8cc0-308bf3e4992f",
   "metadata": {},
   "outputs": [
    {
     "name": "stdout",
     "output_type": "stream",
     "text": [
      "Value of bacon is: 22\n",
      "Now bacon is: 23\n"
     ]
    }
   ],
   "source": [
    "# Assigning value \n",
    "bacon = 22\n",
    "print(\"Value of bacon is:\", bacon)\n",
    "bacon = bacon + 1\n",
    "print(\"Now bacon is:\", bacon)"
   ]
  },
  {
   "cell_type": "markdown",
   "id": "40e15c22-5c35-42d8-9791-525e902f4acc",
   "metadata": {},
   "source": [
    "###Question 7: What should the value of the following two be?\n",
    "'spam'+'spamspam',\n",
    "'spam' * 3"
   ]
  },
  {
   "cell_type": "code",
   "execution_count": 4,
   "id": "809cbd98-b0f8-4b40-bc35-94afdf875082",
   "metadata": {},
   "outputs": [
    {
     "name": "stdout",
     "output_type": "stream",
     "text": [
      "Result of 'spam' + 'spamspam': spamspamspam\n",
      "Result of 'spam'*3: spamspamspam\n"
     ]
    }
   ],
   "source": [
    "# First expression: string concatenation\n",
    "result1 = 'spam' + 'spamspam'\n",
    "print(\"Result of 'spam' + 'spamspam':\", result1)\n",
    "\n",
    "# Sacond expression: string repetition\n",
    "result2 = 'spam'*3\n",
    "print(\"Result of 'spam'*3:\", result2)\n"
   ]
  },
  {
   "cell_type": "markdown",
   "id": "ebd9e878-74b8-4418-a292-c18a32a0ba55",
   "metadata": {},
   "source": [
    "###Question 8: Why is eggs a valid variable name while 100 is invalid?"
   ]
  },
  {
   "cell_type": "markdown",
   "id": "25eb6485-859a-47ac-be59-8ccfbef93941",
   "metadata": {},
   "source": [
    "###Answer: 'eggs' is valid because it starts with a letter, but '100' is invalid because variable names\n",
    "cannot start with numbers. In Python, variable names **must begin with a letter (a-z or A-Z) or underscore('__')**.\n",
    "They **cannot start with digits** like 0-9. "
   ]
  },
  {
   "cell_type": "code",
   "execution_count": 6,
   "id": "a1998435-8b79-4239-93e4-23b3b409932c",
   "metadata": {},
   "outputs": [
    {
     "name": "stdout",
     "output_type": "stream",
     "text": [
      "Value of eggs is: 10\n",
      "Value of num100 is: 5\n"
     ]
    }
   ],
   "source": [
    "# Valid variable name \n",
    "eggs = 10\n",
    "print(\"Value of eggs is:\", eggs)\n",
    "\n",
    "# Correct alternative \n",
    "num100 = 5\n",
    "print(\"Value of num100 is:\", num100)"
   ]
  },
  {
   "cell_type": "markdown",
   "id": "f1dcb1ef-b26c-42a4-9605-cda9c5a96502",
   "metadata": {},
   "source": [
    "###Question 9: What three function can be used to get the integer, floating-point number, or string version of a value?"
   ]
  },
  {
   "cell_type": "markdown",
   "id": "681c91ac-d602-4bd8-bf6c-76047b2c1d19",
   "metadata": {},
   "source": [
    "###Answer: In Python , we use the following built-in functions to convert values:\n",
    "1. **int()** - Converts a value into an **integer (whole number)**\n",
    "Example: 'int(3.7)' gives '3'\n",
    "\n",
    "2. **float()** - Converts a value into a **floating-point number (decimal)**\n",
    "Example: 'float(5)' gives '5.0'\n",
    "\n",
    " 3.**str()** - Converts a value into a **string(text)**\n",
    "Example: 'str(42)' gives '42'\n",
    "\n",
    "These functions are helpfil when we want to change the data type of a value during calculations or printing."
   ]
  },
  {
   "cell_type": "code",
   "execution_count": 1,
   "id": "148f3984-a17d-41af-8c94-9fba4138fb75",
   "metadata": {},
   "outputs": [
    {
     "name": "stdout",
     "output_type": "stream",
     "text": [
      "Integer version of 7.5 is: 7\n",
      "Float version of 7 is: 7.0\n",
      "String version of\n"
     ]
    }
   ],
   "source": [
    "# Example value\n",
    "value = 7.5\n",
    "\n",
    "#Convert to integer\n",
    "int_value = int(value)\n",
    "print(\"Integer version of\", value,\"is:\", int_value)\n",
    "\n",
    "#Convert to float \n",
    "float_value = float(7)\n",
    "print(\"Float version of 7 is:\", float_value)\n",
    "#Convert to string\n",
    "str_value = str(42)\n",
    "print(\"String version of\")"
   ]
  },
  {
   "cell_type": "markdown",
   "id": "2ce8b003-80ac-481b-8233-6dba8fda33ae",
   "metadata": {},
   "source": [
    "###Question 10: Why does this expression cause an error? How can you fix it?\n",
    "\n",
    "'I have eaten' + 99 + 'burritos.'"
   ]
  },
  {
   "cell_type": "markdown",
   "id": "7178c2a7-00fa-461b-9bff-ec388a09f516",
   "metadata": {},
   "source": [
    "### Answer 10: This expression gives an error because Python does **not allow adding (+) a string and an integer** directly.\n",
    "1. 'I have eaten' is a string.\n",
    "2. 99 is an integer.\n",
    "3. 'burritos.'is a String.\n",
    "\n",
    "When you try to **add a string and an integer,** Python shows a **TyprError** like. You need to **convert the intger 99 into a \n",
    "string using str() function.**"
   ]
  },
  {
   "cell_type": "code",
   "execution_count": 4,
   "id": "d41af60e-c0d8-4bae-bee9-596c9963e539",
   "metadata": {},
   "outputs": [
    {
     "name": "stdout",
     "output_type": "stream",
     "text": [
      "I have eaten99burritos.\n"
     ]
    }
   ],
   "source": [
    "# wrong code - cause error \n",
    "#print('I have eaten' + 99 + 'burritos.')\n",
    "\n",
    "#Correct code \n",
    "print('I have eaten' + str(99) + 'burritos.')"
   ]
  },
  {
   "cell_type": "code",
   "execution_count": null,
   "id": "80a618fd-f848-444e-806e-7e27161d84c7",
   "metadata": {},
   "outputs": [],
   "source": []
  }
 ],
 "metadata": {
  "kernelspec": {
   "display_name": "Python 3 (ipykernel)",
   "language": "python",
   "name": "python3"
  },
  "language_info": {
   "codemirror_mode": {
    "name": "ipython",
    "version": 3
   },
   "file_extension": ".py",
   "mimetype": "text/x-python",
   "name": "python",
   "nbconvert_exporter": "python",
   "pygments_lexer": "ipython3",
   "version": "3.13.5"
  }
 },
 "nbformat": 4,
 "nbformat_minor": 5
}
